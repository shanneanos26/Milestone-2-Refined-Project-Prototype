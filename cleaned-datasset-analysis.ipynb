{
 "cells": [
  {
   "cell_type": "code",
   "execution_count": 230,
   "id": "3075f873-7202-4ab6-882d-70f56f0a703d",
   "metadata": {},
   "outputs": [
    {
     "name": "stderr",
     "output_type": "stream",
     "text": [
      "INFO: Cleaned dataset saved as cleaned_transactions_data.csv\n"
     ]
    }
   ],
   "source": [
    "# Cell 6: Saved Cleaned Dataset for Further Use\n",
    "# Explanation:\n",
    "# - This block saves the cleaned dataset to a new CSV file for dashboarding or analysis.\n",
    "# - Prevents repeated re-cleaning every time you run the notebook.\n",
    "\n",
    "output_path = 'cleaned_transactions_data.csv'\n",
    "df_cleaned.to_csv(output_path, index=False)\n",
    "logging.info(f\"Cleaned dataset saved as {output_path}\")\n"
   ]
  }
 ],
 "metadata": {
  "kernelspec": {
   "display_name": "Python 3 (ipykernel)",
   "language": "python",
   "name": "python3"
  },
  "language_info": {
   "codemirror_mode": {
    "name": "ipython",
    "version": 3
   },
   "file_extension": ".py",
   "mimetype": "text/x-python",
   "name": "python",
   "nbconvert_exporter": "python",
   "pygments_lexer": "ipython3",
   "version": "3.12.4"
  }
 },
 "nbformat": 4,
 "nbformat_minor": 5
}
