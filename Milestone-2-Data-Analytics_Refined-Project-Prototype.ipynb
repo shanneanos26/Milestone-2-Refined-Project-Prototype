{
 "cells": [
  {
   "cell_type": "markdown",
   "id": "cd97dbc9",
   "metadata": {},
   "source": [
    "\n",
    "# Milestone 2 – Refined Data Pipeline Prototype (Data Analytics Track)\n",
    "### Project: FinMark – Financial Technology Platform\n",
    "\n",
    "## Description:\n",
    "This notebook demonstrates how the refined data pipeline handles real-world challenges such as **missing columns**, **corrupted data**, and **schema drift**. \n",
    "It includes schema validation, fallback handling, error logging, and a resilient processing workflow to ensure that critical operations continue running smoothly.\n",
    "\n",
    "---\n"
   ]
  },
  {
   "cell_type": "markdown",
   "id": "4e14fe44",
   "metadata": {},
   "source": [
    "\n",
    "## Brief Note: How This Solution Solves the Problem\n",
    "\n",
    "### Problem Recap:\n",
    "During a data run, a crucial column — such as `transaction_amount` — goes missing or turns up corrupted. In the original pipeline, this would cause the entire process to fail, resulting in broken dashboards, halted reporting, and interrupted business operations.\n",
    "\n",
    "---\n",
    "\n",
    "## How This Solution Resolves the Problem:\n",
    "\n",
    "1. **Schema Validation Added:**  \n",
    "The pipeline now includes a schema validation step that automatically checks whether all required columns — like `transaction_id`, `customer_id`, `transaction_amount`, and `transaction_date` — are present in the incoming data batch.\n",
    "\n",
    "2. **Error Detection & Logging:**  \n",
    "If a critical column is missing, the system does not crash. Instead, it logs the issue, including the batch name, timestamp, and details about which columns are missing. This is stored in an **error log** for quick troubleshooting.\n",
    "\n",
    "3. **Quarantine for Bad Data:**  \n",
    "Batches that fail the schema check are automatically routed to a **quarantine folder** (`quarantine_data`). This ensures bad data is isolated and does not affect the rest of the pipeline.\n",
    "\n",
    "4. **Fallback Handling:**  \n",
    "If only partial issues are detected (e.g., missing values within columns rather than entire columns), the system applies fallback logic, such as filling missing `transaction_amount` values with the mean of the valid data. This keeps processing running.\n",
    "\n",
    "5. **Operational Continuity:**  \n",
    "- The pipeline continues processing clean and valid data even if some batches are faulty.  \n",
    "- This prevents total failure, keeps dashboards active, and allows the business to operate smoothly while data issues are resolved in the background.\n",
    "\n",
    "6. **Data Health Visibility:**  \n",
    "The error logs and KPI dashboards provide immediate visibility into the health of the data pipeline. Stakeholders are aware when errors occur but can trust that critical operations are not interrupted.\n",
    "\n",
    "---\n",
    "\n",
    "## Summary:\n",
    "> This revised pipeline is resilient. It proactively detects schema issues, isolates broken data, logs errors for review, and continues processing valid data. This ensures that the pipeline does not fail entirely, maintaining the integrity of business operations even when real-world data problems occur.\n",
    "\n",
    "## ✅ Yes, this solution fully resolves the assigned challenge scenario.\n",
    "\n",
    "---\n"
   ]
  },
  {
   "cell_type": "markdown",
   "id": "5a36b409",
   "metadata": {},
   "source": [
    "\n",
    "## Data Pipeline Flow Diagrams\n",
    "\n",
    "### Current Data Flow (with Issues)\n",
    "**Data Sources → Batch Ingestion → Data Storage → Dashboard**  \n",
    "- No schema validation  \n",
    "- No error handling  \n",
    "- Pipeline fails if data is corrupted  \n",
    "\n",
    "### Proposed Resilient Data Flow\n",
    "**Data Sources → Schema Validator → ✔️ If Passed → Processing → Storage → Dashboard**  \n",
    "**                    ❌ If Failed → Quarantine + Error Log**  \n",
    "\n",
    "---\n"
   ]
  },
  {
   "cell_type": "markdown",
   "id": "ac6121d7",
   "metadata": {},
   "source": [
    "## Import Libraries"
   ]
  },
  {
   "cell_type": "code",
   "execution_count": 5,
   "id": "343db829",
   "metadata": {},
   "outputs": [],
   "source": [
    "\n",
    "import pandas as pd # For handling dataframes\n",
    "import numpy as np # For numerical operations\n",
    "import matplotlib.pyplot as plt # For visualization\n",
    "import seaborn as sns\n",
    "import datetime # For timestamping logs\n",
    "import os\n",
    "\n",
    "# Configure display and plot settings\n",
    "pd.set_option('display.max_columns', None)\n",
    "sns.set(style=\"whitegrid\")\n"
   ]
  },
  {
   "cell_type": "markdown",
   "id": "efad4a03",
   "metadata": {},
   "source": [
    "## Simulate Incoming Data (Some with Missing Columns)"
   ]
  },
  {
   "cell_type": "code",
   "execution_count": 7,
   "id": "7cd96f7f",
   "metadata": {},
   "outputs": [],
   "source": [
    "\n",
    "# Dataset with complete data\n",
    "data_complete = pd.DataFrame({\n",
    "    'transaction_id': [1001, 1002, 1003, 1004],\n",
    "    'customer_id': ['C001', 'C002', 'C003', 'C004'],\n",
    "    'transaction_amount': [1500, 2300, 500, 1250],\n",
    "    'transaction_date': pd.date_range(start='2025-06-01', periods=4, freq='D')\n",
    "})\n",
    "\n",
    "# Dataset with missing 'transaction_amount'\n",
    "data_missing_column = pd.DataFrame({\n",
    "    'transaction_id': [2001, 2002, 2003],\n",
    "    'customer_id': ['C005', 'C006', 'C007'],\n",
    "    'transaction_date': pd.date_range(start='2025-06-05', periods=3, freq='D')\n",
    "})\n",
    "\n",
    "# Combine both datasets to simulate pipeline input\n",
    "incoming_datasets = [data_complete, data_missing_column]\n"
   ]
  },
  {
   "cell_type": "markdown",
   "id": "b13f6223",
   "metadata": {},
   "source": [
    "## Schema Validation Function"
   ]
  },
  {
   "cell_type": "code",
   "execution_count": 9,
   "id": "487432ba",
   "metadata": {},
   "outputs": [],
   "source": [
    "# Define required columns\n",
    "required_columns = ['transaction_id', 'customer_id', 'transaction_amount', 'transaction_date']\n",
    "\n",
    "# Initialize error logs\n",
    "error_logs = []\n",
    "\n",
    "# Function to check for missing columns\n",
    "def validate_schema(df, batch_name=\"Batch\"):\n",
    "    missing_cols = [col for col in required_columns if col not in df.columns]\n",
    "    if missing_cols:\n",
    "        \n",
    "        # If missing columns, log the error\n",
    "        error_message = f\"[{batch_name}] ❌ Missing Columns: {missing_cols}\"\n",
    "        print(error_message)\n",
    "        error_logs.append({\n",
    "            'timestamp': datetime.datetime.now(),\n",
    "            'batch': batch_name,\n",
    "            'error_type': 'Missing Columns',\n",
    "            'details': str(missing_cols)\n",
    "        })\n",
    "        return False\n",
    "        \n",
    "    else:\n",
    "        \n",
    "        # If schema is valid\n",
    "        print(f\"[{batch_name}] ✅ Schema Validation Passed\")\n",
    "        return True\n"
   ]
  },
  {
   "cell_type": "markdown",
   "id": "46cd3dec",
   "metadata": {},
   "source": [
    "## Process Each Dataset with Validation and Error Handling"
   ]
  },
  {
   "cell_type": "code",
   "execution_count": 11,
   "id": "439a7d31",
   "metadata": {},
   "outputs": [
    {
     "name": "stdout",
     "output_type": "stream",
     "text": [
      "[Batch_1] ✅ Schema Validation Passed\n",
      "[Batch_2] ❌ Missing Columns: ['transaction_amount']\n",
      "[Batch_2] 🚫 Saved to quarantine at quarantine_data/Batch_2_quarantined.csv\n"
     ]
    }
   ],
   "source": [
    "\n",
    "processed_data = pd.DataFrame()\n",
    "\n",
    "for i, df in enumerate(incoming_datasets):\n",
    "    batch_name = f\"Batch_{i+1}\" # Label the batch for logs\n",
    "    \n",
    "    if validate_schema(df, batch_name):\n",
    "        \n",
    "        # Check for nulls in 'transaction_amount'\n",
    "        if df['transaction_amount'].isnull().any():\n",
    "            null_count = df['transaction_amount'].isnull().sum()\n",
    "            print(f\"[{batch_name}] ⚠️ Found {null_count} missing transaction amounts. Filling with mean.\")\n",
    "            df['transaction_amount'].fillna(df['transaction_amount'].mean(), inplace=True)\n",
    "        \n",
    "        df['status'] = 'Valid' # Mark batch as valid\n",
    "        processed_data = pd.concat([processed_data, df], ignore_index=True)\n",
    "    \n",
    "    else:\n",
    "        \n",
    "        # If schema fails, quarantine the data\n",
    "        df['status'] = 'Error: Schema Failed'\n",
    "        quarantine_folder = 'quarantine_data'\n",
    "        os.makedirs(quarantine_folder, exist_ok=True)\n",
    "        quarantine_path = f'{quarantine_folder}/{batch_name}_quarantined.csv'\n",
    "        df.to_csv(quarantine_path, index=False)\n",
    "        print(f\"[{batch_name}] 🚫 Saved to quarantine at {quarantine_path}\")\n"
   ]
  },
  {
   "cell_type": "markdown",
   "id": "baf038ca",
   "metadata": {},
   "source": [
    "## Display Processed Data"
   ]
  },
  {
   "cell_type": "code",
   "execution_count": 13,
   "id": "705c4e99",
   "metadata": {},
   "outputs": [
    {
     "name": "stdout",
     "output_type": "stream",
     "text": [
      "✅ Processed Data:\n"
     ]
    },
    {
     "data": {
      "text/html": [
       "<div>\n",
       "<style scoped>\n",
       "    .dataframe tbody tr th:only-of-type {\n",
       "        vertical-align: middle;\n",
       "    }\n",
       "\n",
       "    .dataframe tbody tr th {\n",
       "        vertical-align: top;\n",
       "    }\n",
       "\n",
       "    .dataframe thead th {\n",
       "        text-align: right;\n",
       "    }\n",
       "</style>\n",
       "<table border=\"1\" class=\"dataframe\">\n",
       "  <thead>\n",
       "    <tr style=\"text-align: right;\">\n",
       "      <th></th>\n",
       "      <th>transaction_id</th>\n",
       "      <th>customer_id</th>\n",
       "      <th>transaction_amount</th>\n",
       "      <th>transaction_date</th>\n",
       "      <th>status</th>\n",
       "    </tr>\n",
       "  </thead>\n",
       "  <tbody>\n",
       "    <tr>\n",
       "      <th>0</th>\n",
       "      <td>1001</td>\n",
       "      <td>C001</td>\n",
       "      <td>1500</td>\n",
       "      <td>2025-06-01</td>\n",
       "      <td>Valid</td>\n",
       "    </tr>\n",
       "    <tr>\n",
       "      <th>1</th>\n",
       "      <td>1002</td>\n",
       "      <td>C002</td>\n",
       "      <td>2300</td>\n",
       "      <td>2025-06-02</td>\n",
       "      <td>Valid</td>\n",
       "    </tr>\n",
       "    <tr>\n",
       "      <th>2</th>\n",
       "      <td>1003</td>\n",
       "      <td>C003</td>\n",
       "      <td>500</td>\n",
       "      <td>2025-06-03</td>\n",
       "      <td>Valid</td>\n",
       "    </tr>\n",
       "    <tr>\n",
       "      <th>3</th>\n",
       "      <td>1004</td>\n",
       "      <td>C004</td>\n",
       "      <td>1250</td>\n",
       "      <td>2025-06-04</td>\n",
       "      <td>Valid</td>\n",
       "    </tr>\n",
       "  </tbody>\n",
       "</table>\n",
       "</div>"
      ],
      "text/plain": [
       "   transaction_id customer_id  transaction_amount transaction_date status\n",
       "0            1001        C001                1500       2025-06-01  Valid\n",
       "1            1002        C002                2300       2025-06-02  Valid\n",
       "2            1003        C003                 500       2025-06-03  Valid\n",
       "3            1004        C004                1250       2025-06-04  Valid"
      ]
     },
     "execution_count": 13,
     "metadata": {},
     "output_type": "execute_result"
    }
   ],
   "source": [
    "\n",
    "print(\"Processed Data:\")\n",
    "processed_data\n"
   ]
  },
  {
   "cell_type": "markdown",
   "id": "a2282707",
   "metadata": {},
   "source": [
    "## Display Error Logs"
   ]
  },
  {
   "cell_type": "code",
   "execution_count": 15,
   "id": "622267c3",
   "metadata": {},
   "outputs": [
    {
     "name": "stdout",
     "output_type": "stream",
     "text": [
      "🚨 Error Logs:\n"
     ]
    },
    {
     "data": {
      "text/html": [
       "<div>\n",
       "<style scoped>\n",
       "    .dataframe tbody tr th:only-of-type {\n",
       "        vertical-align: middle;\n",
       "    }\n",
       "\n",
       "    .dataframe tbody tr th {\n",
       "        vertical-align: top;\n",
       "    }\n",
       "\n",
       "    .dataframe thead th {\n",
       "        text-align: right;\n",
       "    }\n",
       "</style>\n",
       "<table border=\"1\" class=\"dataframe\">\n",
       "  <thead>\n",
       "    <tr style=\"text-align: right;\">\n",
       "      <th></th>\n",
       "      <th>timestamp</th>\n",
       "      <th>batch</th>\n",
       "      <th>error_type</th>\n",
       "      <th>details</th>\n",
       "    </tr>\n",
       "  </thead>\n",
       "  <tbody>\n",
       "    <tr>\n",
       "      <th>0</th>\n",
       "      <td>2025-07-01 19:09:35.534954</td>\n",
       "      <td>Batch_2</td>\n",
       "      <td>Missing Columns</td>\n",
       "      <td>['transaction_amount']</td>\n",
       "    </tr>\n",
       "  </tbody>\n",
       "</table>\n",
       "</div>"
      ],
      "text/plain": [
       "                   timestamp    batch       error_type                 details\n",
       "0 2025-07-01 19:09:35.534954  Batch_2  Missing Columns  ['transaction_amount']"
      ]
     },
     "execution_count": 15,
     "metadata": {},
     "output_type": "execute_result"
    }
   ],
   "source": [
    "\n",
    "error_log_df = pd.DataFrame(error_logs)\n",
    "print(\"Error Logs:\")\n",
    "error_log_df\n"
   ]
  },
  {
   "cell_type": "markdown",
   "id": "92639a13",
   "metadata": {},
   "source": [
    "## KPI Dashboard – Transactions Overview"
   ]
  },
  {
   "cell_type": "code",
   "execution_count": 17,
   "id": "f2b8a129",
   "metadata": {},
   "outputs": [
    {
     "data": {
      "image/png": "[encoded data removed]",
      "text/plain": [
       "<Figure size 800x500 with 1 Axes>"
      ]
     },
     "metadata": {},
     "output_type": "display_data"
    },
    {
     "name": "stdout",
     "output_type": "stream",
     "text": [
      "🟢 Total Transactions Processed: 4\n",
      "🟢 Total Revenue: 5550\n"
     ]
    }
   ],
   "source": [
    "\n",
    "if not processed_data.empty:\n",
    "    plt.figure(figsize=(8,5))\n",
    "    sns.barplot(data=processed_data, x='transaction_id', y='transaction_amount', hue='status')\n",
    "    plt.title('Transaction Amounts per Transaction ID')\n",
    "    plt.ylabel('Transaction Amount')\n",
    "    plt.xlabel('Transaction ID')\n",
    "    plt.show()\n",
    "\n",
    "    print(f\"🟢 Total Transactions Processed: {processed_data.shape[0]}\")\n",
    "    print(f\"🟢 Total Revenue: {processed_data['transaction_amount'].sum()}\")\n",
    "else:\n",
    "    print(\"No valid data processed.\")\n"
   ]
  }
 ],
 "metadata": {
  "kernelspec": {
   "display_name": "Python 3 (ipykernel)",
   "language": "python",
   "name": "python3"
  },
  "language_info": {
   "codemirror_mode": {
    "name": "ipython",
    "version": 3
   },
   "file_extension": ".py",
   "mimetype": "text/x-python",
   "name": "python",
   "nbconvert_exporter": "python",
   "pygments_lexer": "ipython3",
   "version": "3.12.4"
  }
 },
 "nbformat": 4,
 "nbformat_minor": 5
}
