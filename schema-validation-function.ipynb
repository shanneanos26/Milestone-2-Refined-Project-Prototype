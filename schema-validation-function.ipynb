{
 "cells": [
  {
   "cell_type": "code",
   "execution_count": 226,
   "id": "85cbb99c-5900-44e0-9c48-6911b5d81942",
   "metadata": {},
   "outputs": [],
   "source": [
    "# Cell 2: Define Required Schema & Schema Validation Function\n",
    "# Explanation:\n",
    "# - First, we map your dataset's actual column names to the expected schema.\n",
    "# - Then we validate that the required schema is complete.\n",
    "\n",
    "REQUIRED_COLUMNS = ['transaction_id', 'customer_id', 'transaction_amount', 'transaction_date']\n",
    "\n",
    "# This mapping is based on your actual CSV column names.\n",
    "COLUMN_MAPPING = {\n",
    "    'id': 'transaction_id',\n",
    "    'user_id': 'customer_id',\n",
    "    'amount': 'transaction_amount',\n",
    "    'date_created': 'transaction_date'\n",
    "}\n",
    "\n",
    "def standardize_column_names(df: pd.DataFrame):\n",
    "    df = df.rename(columns=COLUMN_MAPPING)\n",
    "    return df\n",
    "\n",
    "def validate_schema(df: pd.DataFrame, required_cols: list):\n",
    "    missing_cols = [col for col in required_cols if col not in df.columns]\n",
    "    if missing_cols:\n",
    "        logging.error(f\"Missing required columns: {missing_cols}\")\n",
    "        return False, missing_cols\n",
    "    return True, []\n",
    "\n"
   ]
  }
 ],
 "metadata": {
  "kernelspec": {
   "display_name": "Python 3 (ipykernel)",
   "language": "python",
   "name": "python3"
  },
  "language_info": {
   "codemirror_mode": {
    "name": "ipython",
    "version": 3
   },
   "file_extension": ".py",
   "mimetype": "text/x-python",
   "name": "python",
   "nbconvert_exporter": "python",
   "pygments_lexer": "ipython3",
   "version": "3.12.4"
  }
 },
 "nbformat": 4,
 "nbformat_minor": 5
}
