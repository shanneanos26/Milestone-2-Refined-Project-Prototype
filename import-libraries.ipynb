{
 "cells": [
  {
   "cell_type": "code",
   "execution_count": 20,
   "id": "8d53d688-50ab-4ace-8434-5bff234fb550",
   "metadata": {},
   "outputs": [],
   "source": [
    "# Cell 1: Import Required Libraries\n",
    "# Explanation:\n",
    "# These are the core Python libraries we use:\n",
    "# - pandas: for data manipulation\n",
    "# - numpy: for handling missing numerical data\n",
    "# - logging: for tracking warnings, errors, and info messages during the pipeline run\n",
    "\n",
    "import pandas as pd\n",
    "import numpy as np\n",
    "import logging\n",
    "import matplotlib.pyplot as plt\n",
    "import seaborn as sns\n",
    "\n",
    "# Setup logging to show warnings/errors in console\n",
    "logging.basicConfig(level=logging.INFO, format='%(levelname)s: %(message)s')\n"
   ]
  }
 ],
 "metadata": {
  "kernelspec": {
   "display_name": "Python 3 (ipykernel)",
   "language": "python",
   "name": "python3"
  },
  "language_info": {
   "codemirror_mode": {
    "name": "ipython",
    "version": 3
   },
   "file_extension": ".py",
   "mimetype": "text/x-python",
   "name": "python",
   "nbconvert_exporter": "python",
   "pygments_lexer": "ipython3",
   "version": "3.12.4"
  }
 },
 "nbformat": 4,
 "nbformat_minor": 5
}
