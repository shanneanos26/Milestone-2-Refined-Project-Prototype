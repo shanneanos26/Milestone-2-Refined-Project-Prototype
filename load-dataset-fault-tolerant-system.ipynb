{
 "cells": [
  {
   "cell_type": "code",
   "execution_count": 227,
   "id": "95a22e4b-bf2d-4bab-a364-4f05e34bdfcd",
   "metadata": {},
   "outputs": [],
   "source": [
    "# Explanation:\n",
    "# - This function loads the CSV file and immediately checks schema.\n",
    "# - If any required column is missing, we generate fallback columns with placeholder values (e.g., NaN for amounts).\n",
    "# - This design ensures the pipeline doesn't break when data is incomplete.\n",
    "\n",
    "def load_transaction_data(filepath: str):\n",
    "    try:\n",
    "        df = pd.read_csv(filepath)\n",
    "\n",
    "        # Step 1: Validate required columns\n",
    "        valid, missing = validate_schema(df, REQUIRED_COLUMNS)\n",
    "\n",
    "        # Step 2: If columns are missing, add them with fallback values\n",
    "        if not valid:\n",
    "            for col in missing:\n",
    "                if col == 'transaction_amount':\n",
    "                    logging.warning(\"Missing 'transaction_amount'. Adding NaN as placeholder.\")\n",
    "                    df[col] = np.nan\n",
    "                elif col == 'transaction_date':\n",
    "                    logging.warning(\"Missing 'transaction_date'. Adding today's date.\")\n",
    "                    df[col] = pd.Timestamp.today().normalize()\n",
    "                else:\n",
    "                    logging.warning(f\"Missing '{col}'. Filling with default value 'Unknown'.\")\n",
    "                    df[col] = 'Unknown'\n",
    "\n",
    "        logging.info(f\"Data loaded successfully with shape: {df.shape}\")\n",
    "        return df\n",
    "\n",
    "    except Exception as e:\n",
    "        logging.error(f\"Failed to load data: {str(e)}\")\n",
    "        return pd.DataFrame()  # Return empty DataFrame to prevent pipeline crash\n"
   ]
  }
 ],
 "metadata": {
  "kernelspec": {
   "display_name": "Python 3 (ipykernel)",
   "language": "python",
   "name": "python3"
  },
  "language_info": {
   "codemirror_mode": {
    "name": "ipython",
    "version": 3
   },
   "file_extension": ".py",
   "mimetype": "text/x-python",
   "name": "python",
   "nbconvert_exporter": "python",
   "pygments_lexer": "ipython3",
   "version": "3.12.4"
  }
 },
 "nbformat": 4,
 "nbformat_minor": 5
}
